{
 "cells": [
  {
   "cell_type": "code",
   "execution_count": 1,
   "metadata": {
    "collapsed": true
   },
   "outputs": [],
   "source": [
    "%matplotlib inline\n",
    "import pandas as pd\n",
    "import geopandas as gpd\n",
    "import matplotlib.pyplot as plt\n",
    "import mplleaflet\n",
    "from SCB import SCB"
   ]
  },
  {
   "cell_type": "markdown",
   "metadata": {},
   "source": [
    "###1. Importera data"
   ]
  },
  {
   "cell_type": "code",
   "execution_count": 2,
   "metadata": {
    "collapsed": false
   },
   "outputs": [],
   "source": [
    "scb = SCB('http://api.scb.se/OV0104/v1/doris/sv/ssd/BE/BE0101/BE0101H/FoddaK')"
   ]
  },
  {
   "cell_type": "markdown",
   "metadata": {},
   "source": [
    "###2. Filtrera"
   ]
  },
  {
   "cell_type": "code",
   "execution_count": 3,
   "metadata": {
    "collapsed": false
   },
   "outputs": [
    {
     "data": {
      "text/plain": [
       "<SCB instance: http://api.scb.se/OV0104/v1/doris/sv/ssd/BE/BE0101/BE0101H/FoddaK>"
      ]
     },
     "execution_count": 3,
     "metadata": {},
     "output_type": "execute_result"
    }
   ],
   "source": [
    "scb.filter(code='Region', kind='all', values=['*'])\n",
    "scb.filter(code='Tid', kind='all', values=['*'])"
   ]
  },
  {
   "cell_type": "markdown",
   "metadata": {},
   "source": [
    "###3. Hämta data från SCB:s API"
   ]
  },
  {
   "cell_type": "code",
   "execution_count": 4,
   "metadata": {
    "collapsed": true
   },
   "outputs": [],
   "source": [
    "df = scb.get()"
   ]
  },
  {
   "cell_type": "markdown",
   "metadata": {},
   "source": [
    "###4. Titta på tabellen"
   ]
  },
  {
   "cell_type": "code",
   "execution_count": 5,
   "metadata": {
    "collapsed": false
   },
   "outputs": [
    {
     "data": {
      "text/html": [
       "<div style=\"max-height:1000px;max-width:1500px;overflow:auto;\">\n",
       "<table border=\"1\" class=\"dataframe\">\n",
       "  <thead>\n",
       "    <tr style=\"text-align: right;\">\n",
       "      <th></th>\n",
       "      <th>region</th>\n",
       "      <th>Levande födda 1968</th>\n",
       "      <th>Levande födda 1969</th>\n",
       "      <th>Levande födda 1970</th>\n",
       "      <th>Levande födda 1971</th>\n",
       "      <th>Levande födda 1972</th>\n",
       "      <th>Levande födda 1973</th>\n",
       "      <th>Levande födda 1974</th>\n",
       "      <th>Levande födda 1975</th>\n",
       "      <th>Levande födda 1976</th>\n",
       "      <th>...</th>\n",
       "      <th>Levande födda 2005</th>\n",
       "      <th>Levande födda 2006</th>\n",
       "      <th>Levande födda 2007</th>\n",
       "      <th>Levande födda 2008</th>\n",
       "      <th>Levande födda 2009</th>\n",
       "      <th>Levande födda 2010</th>\n",
       "      <th>Levande födda 2011</th>\n",
       "      <th>Levande födda 2012</th>\n",
       "      <th>Levande födda 2013</th>\n",
       "      <th>Levande födda 2014</th>\n",
       "    </tr>\n",
       "  </thead>\n",
       "  <tbody>\n",
       "    <tr>\n",
       "      <th>0</th>\n",
       "      <td>00 Riket</td>\n",
       "      <td>113086</td>\n",
       "      <td>107621</td>\n",
       "      <td>110149</td>\n",
       "      <td>114485</td>\n",
       "      <td>112273</td>\n",
       "      <td>109663</td>\n",
       "      <td>109874</td>\n",
       "      <td>103631</td>\n",
       "      <td>98345</td>\n",
       "      <td>...</td>\n",
       "      <td>101346</td>\n",
       "      <td>105913</td>\n",
       "      <td>107421</td>\n",
       "      <td>109301</td>\n",
       "      <td>111801</td>\n",
       "      <td>115641</td>\n",
       "      <td>111770</td>\n",
       "      <td>113177</td>\n",
       "      <td>113593</td>\n",
       "      <td>114907</td>\n",
       "    </tr>\n",
       "    <tr>\n",
       "      <th>1</th>\n",
       "      <td>01 Stockholms län</td>\n",
       "      <td>20095</td>\n",
       "      <td>19703</td>\n",
       "      <td>21113</td>\n",
       "      <td>22834</td>\n",
       "      <td>22316</td>\n",
       "      <td>21235</td>\n",
       "      <td>20778</td>\n",
       "      <td>19292</td>\n",
       "      <td>18695</td>\n",
       "      <td>...</td>\n",
       "      <td>25836</td>\n",
       "      <td>26983</td>\n",
       "      <td>27421</td>\n",
       "      <td>27948</td>\n",
       "      <td>28570</td>\n",
       "      <td>29619</td>\n",
       "      <td>28650</td>\n",
       "      <td>28932</td>\n",
       "      <td>29613</td>\n",
       "      <td>29496</td>\n",
       "    </tr>\n",
       "    <tr>\n",
       "      <th>2</th>\n",
       "      <td>0114 Upplands Väsby</td>\n",
       "      <td>348</td>\n",
       "      <td>377</td>\n",
       "      <td>395</td>\n",
       "      <td>437</td>\n",
       "      <td>490</td>\n",
       "      <td>566</td>\n",
       "      <td>594</td>\n",
       "      <td>549</td>\n",
       "      <td>583</td>\n",
       "      <td>...</td>\n",
       "      <td>476</td>\n",
       "      <td>467</td>\n",
       "      <td>494</td>\n",
       "      <td>445</td>\n",
       "      <td>473</td>\n",
       "      <td>487</td>\n",
       "      <td>446</td>\n",
       "      <td>497</td>\n",
       "      <td>550</td>\n",
       "      <td>485</td>\n",
       "    </tr>\n",
       "  </tbody>\n",
       "</table>\n",
       "<p>3 rows × 48 columns</p>\n",
       "</div>"
      ],
      "text/plain": [
       "                region  Levande födda 1968  Levande födda 1969  \\\n",
       "0             00 Riket              113086              107621   \n",
       "1    01 Stockholms län               20095               19703   \n",
       "2  0114 Upplands Väsby                 348                 377   \n",
       "\n",
       "   Levande födda 1970  Levande födda 1971  Levande födda 1972  \\\n",
       "0              110149              114485              112273   \n",
       "1               21113               22834               22316   \n",
       "2                 395                 437                 490   \n",
       "\n",
       "   Levande födda 1973  Levande födda 1974  Levande födda 1975  \\\n",
       "0              109663              109874              103631   \n",
       "1               21235               20778               19292   \n",
       "2                 566                 594                 549   \n",
       "\n",
       "   Levande födda 1976         ...          Levande födda 2005  \\\n",
       "0               98345         ...                      101346   \n",
       "1               18695         ...                       25836   \n",
       "2                 583         ...                         476   \n",
       "\n",
       "   Levande födda 2006  Levande födda 2007  Levande födda 2008  \\\n",
       "0              105913              107421              109301   \n",
       "1               26983               27421               27948   \n",
       "2                 467                 494                 445   \n",
       "\n",
       "   Levande födda 2009  Levande födda 2010  Levande födda 2011  \\\n",
       "0              111801              115641              111770   \n",
       "1               28570               29619               28650   \n",
       "2                 473                 487                 446   \n",
       "\n",
       "   Levande födda 2012  Levande födda 2013  Levande födda 2014  \n",
       "0              113177              113593              114907  \n",
       "1               28932               29613               29496  \n",
       "2                 497                 550                 485  \n",
       "\n",
       "[3 rows x 48 columns]"
      ]
     },
     "execution_count": 5,
     "metadata": {},
     "output_type": "execute_result"
    }
   ],
   "source": [
    "df.head(3)"
   ]
  },
  {
   "cell_type": "markdown",
   "metadata": {},
   "source": [
    "###5. Ladda shapefil"
   ]
  },
  {
   "cell_type": "code",
   "execution_count": 6,
   "metadata": {
    "collapsed": false
   },
   "outputs": [],
   "source": [
    "shp = gpd.GeoDataFrame.from_file('Lan/lan.shp')"
   ]
  },
  {
   "cell_type": "markdown",
   "metadata": {},
   "source": [
    "###6. Rita karta"
   ]
  },
  {
   "cell_type": "code",
   "execution_count": 7,
   "metadata": {
    "collapsed": false
   },
   "outputs": [
    {
     "data": {
      "text/plain": [
       "<matplotlib.axes._subplots.AxesSubplot at 0x1073a99d0>"
      ]
     },
     "execution_count": 7,
     "metadata": {},
     "output_type": "execute_result"
    },
    {
     "data": {
      "image/png": "[encoded data removed]",
      "text/plain": [
       "<matplotlib.figure.Figure at 0x1072d1f10>"
      ]
     },
     "metadata": {},
     "output_type": "display_data"
    }
   ],
   "source": [
    "shp.plot()"
   ]
  },
  {
   "cell_type": "markdown",
   "metadata": {},
   "source": [
    "###7. Kombinera filerna ??"
   ]
  },
  {
   "cell_type": "code",
   "execution_count": 97,
   "metadata": {
    "collapsed": false
   },
   "outputs": [],
   "source": [
    "df_lan.set_index('LNNAMN', inplace=True)\n",
    "shp.set_index('LNNAMN', inplace=True)\n",
    "combined = pd.concat([shp, df_lan])"
   ]
  },
  {
   "cell_type": "code",
   "execution_count": 98,
   "metadata": {
    "collapsed": false
   },
   "outputs": [
    {
     "data": {
      "text/plain": [
       "'S\\xc3\\xb6dermanlands'"
      ]
     },
     "execution_count": 98,
     "metadata": {},
     "output_type": "execute_result"
    }
   ],
   "source": [
    "df_lan.index[2]"
   ]
  },
  {
   "cell_type": "code",
   "execution_count": 99,
   "metadata": {
    "collapsed": false
   },
   "outputs": [
    {
     "data": {
      "text/plain": [
       "u'Sdermanlands'"
      ]
     },
     "execution_count": 99,
     "metadata": {},
     "output_type": "execute_result"
    }
   ],
   "source": [
    "shp.index[2]"
   ]
  },
  {
   "cell_type": "code",
   "execution_count": null,
   "metadata": {
    "collapsed": true
   },
   "outputs": [],
   "source": []
  }
 ],
 "metadata": {
  "kernelspec": {
   "display_name": "Python 2",
   "language": "python",
   "name": "python2"
  },
  "language_info": {
   "codemirror_mode": {
    "name": "ipython",
    "version": 2
   },
   "file_extension": ".py",
   "mimetype": "text/x-python",
   "name": "python",
   "nbconvert_exporter": "python",
   "pygments_lexer": "ipython2",
   "version": "2.7.6"
  }
 },
 "nbformat": 4,
 "nbformat_minor": 0
}
