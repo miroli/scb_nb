{
 "cells": [
  {
   "cell_type": "code",
   "execution_count": 3,
   "metadata": {
    "collapsed": false
   },
   "outputs": [],
   "source": [
    "%matplotlib inline\n",
    "import pandas as pd\n",
    "from SCB import SCB\n",
    "import geopandas as gpd"
   ]
  },
  {
   "cell_type": "code",
   "execution_count": 4,
   "metadata": {
    "collapsed": false
   },
   "outputs": [],
   "source": [
    "scb = SCB('http://api.scb.se/OV0104/v1/doris/sv/ssd/BE/BE0101/BE0101H/FoddaK')"
   ]
  },
  {
   "cell_type": "code",
   "execution_count": 5,
   "metadata": {
    "collapsed": true
   },
   "outputs": [],
   "source": [
    "boros = gpd.GeoDataFrame.from_file('Kommuner_SCB/kommuner.shp')"
   ]
  },
  {
   "cell_type": "code",
   "execution_count": 13,
   "metadata": {
    "collapsed": false
   },
   "outputs": [],
   "source": [
    "boros['AREA'] = boros['AREA'] * 3"
   ]
  },
  {
   "cell_type": "code",
   "execution_count": 18,
   "metadata": {
    "collapsed": false
   },
   "outputs": [
    {
     "data": {
      "image/svg+xml": [
       "<svg xmlns=\"http://www.w3.org/2000/svg\" xmlns:xlink=\"http://www.w3.org/1999/xlink\" width=\"100.0\" height=\"100.0\" viewBox=\"17.4505703468 59.2529575874 0.457443894588 0.217650987997\" preserveAspectRatio=\"xMinYMin meet\"><g transform=\"matrix(1,0,0,-1,0,118.723566163)\"><g><path fill-rule=\"evenodd\" fill=\"#66cc99\" stroke=\"#555555\" stroke-width=\"0.00914887789175\" opacity=\"0.6\" d=\"M 17.7866551537,59.3259376237 L 17.789765186,59.3178001472 L 17.7811943897,59.3102531773 L 17.7607091159,59.3073566084 L 17.7331545124,59.3116551036 L 17.7199200387,59.3230379412 L 17.7131985244,59.3275541379 L 17.696928965,59.3275667149 L 17.6789130291,59.3434141019 L 17.6542150923,59.3644356308 L 17.6367853317,59.3869845269 L 17.6305135878,59.4032519263 L 17.6044087831,59.4310077912 L 17.6015103047,59.4418308136 L 17.5980779437,59.4469329201 L 17.5996647972,59.4499279075 L 17.6137593643,59.453666209 L 17.6285620655,59.4442844751 L 17.6432260998,59.4406222591 L 17.6629004284,59.427764921 L 17.6793424024,59.4220350777 L 17.6908120596,59.4258296208 L 17.7093298019,59.4213948498 L 17.7304351908,59.4101762071 L 17.7249535203,59.4076170758 L 17.7138888455,59.4078511092 L 17.7038162119,59.4050439352 L 17.7019308818,59.399037597 L 17.713049617,59.386026843 L 17.7232358654,59.3834532338 L 17.7313156406,59.3859651149 L 17.7306766722,59.3926996832 L 17.7348925251,59.3956364634 L 17.7620326603,59.3799142849 L 17.7648199273,59.3751495549 L 17.7756464837,59.3658368258 L 17.7808588979,59.3526126963 L 17.7781818611,59.3388972667 L 17.7761194266,59.3312064129 L 17.7866551537,59.3259376237 z\" /><path fill-rule=\"evenodd\" fill=\"#66cc99\" stroke=\"#555555\" stroke-width=\"0.00914887789175\" opacity=\"0.6\" d=\"M 17.6130130996,59.3632891122 L 17.5992562577,59.3625721585 L 17.5880120258,59.3678350761 L 17.5723661543,59.3890037661 L 17.5638213857,59.3881674387 L 17.5539060023,59.3870256693 L 17.5438271879,59.390931289 L 17.5405477046,59.397717672 L 17.5355396312,59.4068883033 L 17.5325515268,59.4170374965 L 17.5482579689,59.4244425726 L 17.5628652746,59.4268326036 L 17.5807485377,59.4294818326 L 17.5931413365,59.4292231229 L 17.63634246,59.3617875761 L 17.6535537489,59.3237891897 L 17.6813261782,59.3211836946 L 17.7000017539,59.3123746426 L 17.7354078265,59.3015203102 L 17.7595247748,59.2952795966 L 17.7730169388,59.2936398372 L 17.7975933711,59.2984742602 L 17.8098421402,59.2971909259 L 17.8088186139,59.2935162552 L 17.8392302673,59.2854305516 L 17.8430678242,59.2782859121 L 17.8395235,59.2753422389 L 17.8129572636,59.2698999539 L 17.7840515586,59.2735659093 L 17.7759968062,59.2777735456 L 17.7638082278,59.2793940855 L 17.7267055882,59.2792014461 L 17.6854119988,59.2962264118 L 17.6479586556,59.3060993808 L 17.6321978585,59.3114750588 L 17.6262050336,59.3169820868 L 17.6243363748,59.3247478668 L 17.6282581348,59.3317144228 L 17.6243952233,59.3459098633 L 17.6116138478,59.3485386107 L 17.6175392528,59.3561421868 L 17.6130130996,59.3632891122 z\" /><path fill-rule=\"evenodd\" fill=\"#66cc99\" stroke=\"#555555\" stroke-width=\"0.00914887789175\" opacity=\"0.6\" d=\"M 17.4878421702,59.3779459256 L 17.4697420085,59.3870395167 L 17.4675127133,59.3911171106 L 17.4699389021,59.3964462389 L 17.4706172495,59.4038177291 L 17.4691050347,59.4088917473 L 17.4710862543,59.4162466206 L 17.4917846279,59.4212153573 L 17.5053231802,59.4192621879 L 17.5092115235,59.4117954139 L 17.5215937968,59.4044865164 L 17.5346593017,59.3833854493 L 17.5426819053,59.3785203751 L 17.5445545285,59.3704147511 L 17.5381131053,59.3644938761 L 17.5349595094,59.3585111928 L 17.5397536472,59.3469999892 L 17.5307196405,59.3407989526 L 17.5190765984,59.3416976454 L 17.5029196476,59.3504294595 L 17.4928096409,59.361047373 L 17.4962468073,59.3700440579 L 17.4878421702,59.3779459256 z\" /><path fill-rule=\"evenodd\" fill=\"#66cc99\" stroke=\"#555555\" stroke-width=\"0.00914887789175\" opacity=\"0.6\" d=\"M 17.8904652735,59.3343395118 L 17.8910718749,59.3276042081 L 17.8849215558,59.3247213277 L 17.8821603919,59.3200690919 L 17.8769372026,59.310445579 L 17.8605472664,59.3030995696 L 17.8464821311,59.3054307939 L 17.8338419681,59.3158016521 L 17.8081988428,59.3328545927 L 17.8062190879,59.3389370115 L 17.8143789155,59.348832257 L 17.8206979422,59.3534039742 L 17.8417157066,59.3549451764 L 17.8563142895,59.3509091684 L 17.8699742093,59.3378353209 L 17.8793119471,59.3335835683 L 17.8904652735,59.3343395118 z\" /></g></g></svg>"
      ],
      "text/plain": [
       "<shapely.geometry.multipolygon.MultiPolygon at 0x1074152d0>"
      ]
     },
     "execution_count": 18,
     "metadata": {},
     "output_type": "execute_result"
    }
   ],
   "source": [
    "boros.loc[5].geometry"
   ]
  },
  {
   "cell_type": "code",
   "execution_count": 19,
   "metadata": {
    "collapsed": false
   },
   "outputs": [
    {
     "ename": "AttributeError",
     "evalue": "'module' object has no attribute 'Polygon'",
     "output_type": "error",
     "traceback": [
      "\u001b[0;31m---------------------------------------------------------------------------\u001b[0m",
      "\u001b[0;31mAttributeError\u001b[0m                            Traceback (most recent call last)",
      "\u001b[0;32m<ipython-input-19-73f178a5fb29>\u001b[0m in \u001b[0;36m<module>\u001b[0;34m()\u001b[0m\n\u001b[0;32m----> 1\u001b[0;31m \u001b[0mp1\u001b[0m \u001b[0;34m=\u001b[0m \u001b[0mgpd\u001b[0m\u001b[0;34m.\u001b[0m\u001b[0mPolygon\u001b[0m\u001b[0;34m(\u001b[0m\u001b[0;34m[\u001b[0m\u001b[0;34m(\u001b[0m\u001b[0;36m0\u001b[0m\u001b[0;34m,\u001b[0m \u001b[0;36m0\u001b[0m\u001b[0;34m)\u001b[0m\u001b[0;34m,\u001b[0m \u001b[0;34m(\u001b[0m\u001b[0;36m1\u001b[0m\u001b[0;34m,\u001b[0m \u001b[0;36m0\u001b[0m\u001b[0;34m)\u001b[0m\u001b[0;34m,\u001b[0m \u001b[0;34m(\u001b[0m\u001b[0;36m1\u001b[0m\u001b[0;34m,\u001b[0m \u001b[0;36m1\u001b[0m\u001b[0;34m)\u001b[0m\u001b[0;34m]\u001b[0m\u001b[0;34m)\u001b[0m\u001b[0;34m\u001b[0m\u001b[0m\n\u001b[0m",
      "\u001b[0;31mAttributeError\u001b[0m: 'module' object has no attribute 'Polygon'"
     ]
    }
   ],
   "source": [
    "p1 = gpd.Polygon([(0, 0), (1, 0), (1, 1)])"
   ]
  },
  {
   "cell_type": "code",
   "execution_count": null,
   "metadata": {
    "collapsed": true
   },
   "outputs": [],
   "source": []
  },
  {
   "cell_type": "code",
   "execution_count": null,
   "metadata": {
    "collapsed": true
   },
   "outputs": [],
   "source": []
  },
  {
   "cell_type": "code",
   "execution_count": null,
   "metadata": {
    "collapsed": true
   },
   "outputs": [],
   "source": []
  },
  {
   "cell_type": "code",
   "execution_count": 3,
   "metadata": {
    "collapsed": false
   },
   "outputs": [
    {
     "data": {
      "text/plain": [
       "<SCB instance: http://api.scb.se/OV0104/v1/doris/sv/ssd/BE/BE0101/BE0101H/FoddaK>"
      ]
     },
     "execution_count": 3,
     "metadata": {},
     "output_type": "execute_result"
    }
   ],
   "source": [
    "scb.filter(code='Region', kind='item', values=['00'])\n",
    "scb.filter(code='Tid', kind='all', values=['*'])"
   ]
  },
  {
   "cell_type": "code",
   "execution_count": 13,
   "metadata": {
    "collapsed": false
   },
   "outputs": [],
   "source": [
    "df = scb.get()"
   ]
  },
  {
   "cell_type": "code",
   "execution_count": 14,
   "metadata": {
    "collapsed": false
   },
   "outputs": [
    {
     "data": {
      "text/html": [
       "<div style=\"max-height:1000px;max-width:1500px;overflow:auto;\">\n",
       "<table border=\"1\" class=\"dataframe\">\n",
       "  <thead>\n",
       "    <tr style=\"text-align: right;\">\n",
       "      <th></th>\n",
       "      <th>region</th>\n",
       "      <th>Levande födda 1968</th>\n",
       "      <th>Levande födda 1969</th>\n",
       "      <th>Levande födda 1970</th>\n",
       "      <th>Levande födda 1971</th>\n",
       "      <th>Levande födda 1972</th>\n",
       "      <th>Levande födda 1973</th>\n",
       "      <th>Levande födda 1974</th>\n",
       "      <th>Levande födda 1975</th>\n",
       "      <th>Levande födda 1976</th>\n",
       "      <th>...</th>\n",
       "      <th>Levande födda 2005</th>\n",
       "      <th>Levande födda 2006</th>\n",
       "      <th>Levande födda 2007</th>\n",
       "      <th>Levande födda 2008</th>\n",
       "      <th>Levande födda 2009</th>\n",
       "      <th>Levande födda 2010</th>\n",
       "      <th>Levande födda 2011</th>\n",
       "      <th>Levande födda 2012</th>\n",
       "      <th>Levande födda 2013</th>\n",
       "      <th>Levande födda 2014</th>\n",
       "    </tr>\n",
       "  </thead>\n",
       "  <tbody>\n",
       "    <tr>\n",
       "      <th>0</th>\n",
       "      <td>00 Riket</td>\n",
       "      <td>113086</td>\n",
       "      <td>107621</td>\n",
       "      <td>110149</td>\n",
       "      <td>114485</td>\n",
       "      <td>112273</td>\n",
       "      <td>109663</td>\n",
       "      <td>109874</td>\n",
       "      <td>103631</td>\n",
       "      <td>98345</td>\n",
       "      <td>...</td>\n",
       "      <td>101346</td>\n",
       "      <td>105913</td>\n",
       "      <td>107421</td>\n",
       "      <td>109301</td>\n",
       "      <td>111801</td>\n",
       "      <td>115641</td>\n",
       "      <td>111770</td>\n",
       "      <td>113177</td>\n",
       "      <td>113593</td>\n",
       "      <td>114907</td>\n",
       "    </tr>\n",
       "  </tbody>\n",
       "</table>\n",
       "<p>1 rows × 48 columns</p>\n",
       "</div>"
      ],
      "text/plain": [
       "     region  Levande födda 1968  Levande födda 1969  Levande födda 1970  \\\n",
       "0  00 Riket              113086              107621              110149   \n",
       "\n",
       "   Levande födda 1971  Levande födda 1972  Levande födda 1973  \\\n",
       "0              114485              112273              109663   \n",
       "\n",
       "   Levande födda 1974  Levande födda 1975  Levande födda 1976  \\\n",
       "0              109874              103631               98345   \n",
       "\n",
       "          ...          Levande födda 2005  Levande födda 2006  \\\n",
       "0         ...                      101346              105913   \n",
       "\n",
       "   Levande födda 2007  Levande födda 2008  Levande födda 2009  \\\n",
       "0              107421              109301              111801   \n",
       "\n",
       "   Levande födda 2010  Levande födda 2011  Levande födda 2012  \\\n",
       "0              115641              111770              113177   \n",
       "\n",
       "   Levande födda 2013  Levande födda 2014  \n",
       "0              113593              114907  \n",
       "\n",
       "[1 rows x 48 columns]"
      ]
     },
     "execution_count": 14,
     "metadata": {},
     "output_type": "execute_result"
    }
   ],
   "source": [
    "df"
   ]
  },
  {
   "cell_type": "code",
   "execution_count": null,
   "metadata": {
    "collapsed": true
   },
   "outputs": [],
   "source": []
  },
  {
   "cell_type": "code",
   "execution_count": 5,
   "metadata": {
    "collapsed": true
   },
   "outputs": [],
   "source": [
    "scb2 = SCB('http://api.scb.se/OV0104/v1/doris/sv/ssd/OE/OE0101/Kommunalskatter2000')"
   ]
  },
  {
   "cell_type": "code",
   "execution_count": 6,
   "metadata": {
    "collapsed": false
   },
   "outputs": [
    {
     "data": {
      "text/plain": [
       "<SCB instance: http://api.scb.se/OV0104/v1/doris/sv/ssd/OE/OE0101/Kommunalskatter2000>"
      ]
     },
     "execution_count": 6,
     "metadata": {},
     "output_type": "execute_result"
    }
   ],
   "source": [
    "scb2.filter(code='Region', kind='item', values=['00'])\n",
    "scb2.filter(code='Tid', kind='all', values=['*'])\n",
    "scb2.filter(code='ContentsCode', kind='item', values=['OE0101D1'])"
   ]
  },
  {
   "cell_type": "code",
   "execution_count": 7,
   "metadata": {
    "collapsed": true
   },
   "outputs": [],
   "source": [
    "df2 = scb2.get()"
   ]
  },
  {
   "cell_type": "code",
   "execution_count": 8,
   "metadata": {
    "collapsed": false
   },
   "outputs": [
    {
     "data": {
      "text/html": [
       "<div style=\"max-height:1000px;max-width:1500px;overflow:auto;\">\n",
       "<table border=\"1\" class=\"dataframe\">\n",
       "  <thead>\n",
       "    <tr style=\"text-align: right;\">\n",
       "      <th></th>\n",
       "      <th>region</th>\n",
       "      <th>Skattesats, total kommunal 2000</th>\n",
       "      <th>Skattesats, total kommunal 2001</th>\n",
       "      <th>Skattesats, total kommunal 2002</th>\n",
       "      <th>Skattesats, total kommunal 2003</th>\n",
       "      <th>Skattesats, total kommunal 2004</th>\n",
       "      <th>Skattesats, total kommunal 2005</th>\n",
       "      <th>Skattesats, total kommunal 2006</th>\n",
       "      <th>Skattesats, total kommunal 2007</th>\n",
       "      <th>Skattesats, total kommunal 2008</th>\n",
       "      <th>Skattesats, total kommunal 2009</th>\n",
       "      <th>Skattesats, total kommunal 2010</th>\n",
       "      <th>Skattesats, total kommunal 2011</th>\n",
       "      <th>Skattesats, total kommunal 2012</th>\n",
       "      <th>Skattesats, total kommunal 2013</th>\n",
       "      <th>Skattesats, total kommunal 2014</th>\n",
       "      <th>Skattesats, total kommunal 2015</th>\n",
       "    </tr>\n",
       "  </thead>\n",
       "  <tbody>\n",
       "    <tr>\n",
       "      <th>0</th>\n",
       "      <td>00 Riket</td>\n",
       "      <td>30.38</td>\n",
       "      <td>30.53</td>\n",
       "      <td>30.52</td>\n",
       "      <td>31.17</td>\n",
       "      <td>31.51</td>\n",
       "      <td>31.6</td>\n",
       "      <td>31.6</td>\n",
       "      <td>31.55</td>\n",
       "      <td>31.44</td>\n",
       "      <td>31.52</td>\n",
       "      <td>31.56</td>\n",
       "      <td>31.55</td>\n",
       "      <td>31.6</td>\n",
       "      <td>31.73</td>\n",
       "      <td>31.86</td>\n",
       "      <td>31.99</td>\n",
       "    </tr>\n",
       "  </tbody>\n",
       "</table>\n",
       "</div>"
      ],
      "text/plain": [
       "     region  Skattesats, total kommunal 2000  Skattesats, total kommunal 2001  \\\n",
       "0  00 Riket                            30.38                            30.53   \n",
       "\n",
       "   Skattesats, total kommunal 2002  Skattesats, total kommunal 2003  \\\n",
       "0                            30.52                            31.17   \n",
       "\n",
       "   Skattesats, total kommunal 2004  Skattesats, total kommunal 2005  \\\n",
       "0                            31.51                             31.6   \n",
       "\n",
       "   Skattesats, total kommunal 2006  Skattesats, total kommunal 2007  \\\n",
       "0                             31.6                            31.55   \n",
       "\n",
       "   Skattesats, total kommunal 2008  Skattesats, total kommunal 2009  \\\n",
       "0                            31.44                            31.52   \n",
       "\n",
       "   Skattesats, total kommunal 2010  Skattesats, total kommunal 2011  \\\n",
       "0                            31.56                            31.55   \n",
       "\n",
       "   Skattesats, total kommunal 2012  Skattesats, total kommunal 2013  \\\n",
       "0                             31.6                            31.73   \n",
       "\n",
       "   Skattesats, total kommunal 2014  Skattesats, total kommunal 2015  \n",
       "0                            31.86                            31.99  "
      ]
     },
     "execution_count": 8,
     "metadata": {},
     "output_type": "execute_result"
    }
   ],
   "source": [
    "df2"
   ]
  },
  {
   "cell_type": "code",
   "execution_count": 9,
   "metadata": {
    "collapsed": false
   },
   "outputs": [],
   "source": [
    "df.set_index('region', inplace=True)\n",
    "df2.set_index('region', inplace=True)"
   ]
  },
  {
   "cell_type": "code",
   "execution_count": 99,
   "metadata": {
    "collapsed": false
   },
   "outputs": [],
   "source": [
    "df2.columns = [x[-4:] for x in df2.columns]"
   ]
  },
  {
   "cell_type": "code",
   "execution_count": 102,
   "metadata": {
    "collapsed": false
   },
   "outputs": [],
   "source": [
    "df2 = df2.T"
   ]
  },
  {
   "cell_type": "code",
   "execution_count": 108,
   "metadata": {
    "collapsed": false
   },
   "outputs": [],
   "source": [
    "df2.rename(columns={'00 Riket': 'skattesats'}, inplace=True)"
   ]
  },
  {
   "cell_type": "code",
   "execution_count": 12,
   "metadata": {
    "collapsed": false
   },
   "outputs": [
    {
     "data": {
      "text/html": [
       "<div style=\"max-height:1000px;max-width:1500px;overflow:auto;\">\n",
       "<table border=\"1\" class=\"dataframe\">\n",
       "  <thead>\n",
       "    <tr style=\"text-align: right;\">\n",
       "      <th></th>\n",
       "      <th>Levande födda 1968</th>\n",
       "      <th>Levande födda 1969</th>\n",
       "      <th>Levande födda 1970</th>\n",
       "      <th>Levande födda 1971</th>\n",
       "      <th>Levande födda 1972</th>\n",
       "      <th>Levande födda 1973</th>\n",
       "      <th>Levande födda 1974</th>\n",
       "      <th>Levande födda 1975</th>\n",
       "      <th>Levande födda 1976</th>\n",
       "      <th>Levande födda 1977</th>\n",
       "      <th>...</th>\n",
       "      <th>Levande födda 2005</th>\n",
       "      <th>Levande födda 2006</th>\n",
       "      <th>Levande födda 2007</th>\n",
       "      <th>Levande födda 2008</th>\n",
       "      <th>Levande födda 2009</th>\n",
       "      <th>Levande födda 2010</th>\n",
       "      <th>Levande födda 2011</th>\n",
       "      <th>Levande födda 2012</th>\n",
       "      <th>Levande födda 2013</th>\n",
       "      <th>Levande födda 2014</th>\n",
       "    </tr>\n",
       "    <tr>\n",
       "      <th>region</th>\n",
       "      <th></th>\n",
       "      <th></th>\n",
       "      <th></th>\n",
       "      <th></th>\n",
       "      <th></th>\n",
       "      <th></th>\n",
       "      <th></th>\n",
       "      <th></th>\n",
       "      <th></th>\n",
       "      <th></th>\n",
       "      <th></th>\n",
       "      <th></th>\n",
       "      <th></th>\n",
       "      <th></th>\n",
       "      <th></th>\n",
       "      <th></th>\n",
       "      <th></th>\n",
       "      <th></th>\n",
       "      <th></th>\n",
       "      <th></th>\n",
       "      <th></th>\n",
       "    </tr>\n",
       "  </thead>\n",
       "  <tbody>\n",
       "    <tr>\n",
       "      <th>00 Riket</th>\n",
       "      <td>113086</td>\n",
       "      <td>107621</td>\n",
       "      <td>110149</td>\n",
       "      <td>114485</td>\n",
       "      <td>112273</td>\n",
       "      <td>109663</td>\n",
       "      <td>109874</td>\n",
       "      <td>103631</td>\n",
       "      <td>98345</td>\n",
       "      <td>96057</td>\n",
       "      <td>...</td>\n",
       "      <td>101346</td>\n",
       "      <td>105913</td>\n",
       "      <td>107421</td>\n",
       "      <td>109301</td>\n",
       "      <td>111801</td>\n",
       "      <td>115641</td>\n",
       "      <td>111770</td>\n",
       "      <td>113177</td>\n",
       "      <td>113593</td>\n",
       "      <td>114907</td>\n",
       "    </tr>\n",
       "  </tbody>\n",
       "</table>\n",
       "<p>1 rows × 47 columns</p>\n",
       "</div>"
      ],
      "text/plain": [
       "          Levande födda 1968  Levande födda 1969  Levande födda 1970  \\\n",
       "region                                                                 \n",
       "00 Riket              113086              107621              110149   \n",
       "\n",
       "          Levande födda 1971  Levande födda 1972  Levande födda 1973  \\\n",
       "region                                                                 \n",
       "00 Riket              114485              112273              109663   \n",
       "\n",
       "          Levande födda 1974  Levande födda 1975  Levande födda 1976  \\\n",
       "region                                                                 \n",
       "00 Riket              109874              103631               98345   \n",
       "\n",
       "          Levande födda 1977         ...          Levande födda 2005  \\\n",
       "region                               ...                               \n",
       "00 Riket               96057         ...                      101346   \n",
       "\n",
       "          Levande födda 2006  Levande födda 2007  Levande födda 2008  \\\n",
       "region                                                                 \n",
       "00 Riket              105913              107421              109301   \n",
       "\n",
       "          Levande födda 2009  Levande födda 2010  Levande födda 2011  \\\n",
       "region                                                                 \n",
       "00 Riket              111801              115641              111770   \n",
       "\n",
       "          Levande födda 2012  Levande födda 2013  Levande födda 2014  \n",
       "region                                                                \n",
       "00 Riket              113177              113593              114907  \n",
       "\n",
       "[1 rows x 47 columns]"
      ]
     },
     "execution_count": 12,
     "metadata": {},
     "output_type": "execute_result"
    }
   ],
   "source": [
    "df"
   ]
  },
  {
   "cell_type": "code",
   "execution_count": null,
   "metadata": {
    "collapsed": true
   },
   "outputs": [],
   "source": []
  },
  {
   "cell_type": "code",
   "execution_count": null,
   "metadata": {
    "collapsed": true
   },
   "outputs": [],
   "source": []
  }
 ],
 "metadata": {
  "kernelspec": {
   "display_name": "Python 2",
   "language": "python",
   "name": "python2"
  },
  "language_info": {
   "codemirror_mode": {
    "name": "ipython",
    "version": 2
   },
   "file_extension": ".py",
   "mimetype": "text/x-python",
   "name": "python",
   "nbconvert_exporter": "python",
   "pygments_lexer": "ipython2",
   "version": "2.7.6"
  }
 },
 "nbformat": 4,
 "nbformat_minor": 0
}
